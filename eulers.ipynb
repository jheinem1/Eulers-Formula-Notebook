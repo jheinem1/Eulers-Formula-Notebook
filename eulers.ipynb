{
 "cells": [
  {
   "cell_type": "markdown",
   "metadata": {},
   "source": [
    "# Euler's Formula"
   ]
  },
  {
   "cell_type": "code",
   "execution_count": null,
   "metadata": {},
   "outputs": [],
   "source": [
    "import numpy"
   ]
  },
  {
   "cell_type": "code",
   "execution_count": null,
   "metadata": {},
   "outputs": [],
   "source": [
    "def euler(f: callable, tspan: list, y0: float, h: float) -> numpy.array:\n",
    "    \"\"\"Euler's method for solving ODEs.\n",
    "    Args:\n",
    "        f: The derivative function.\n",
    "        tspan: The time span. [t0, tf]\n",
    "        y0: The initial value. y(t0) = y0\n",
    "        h: The step size.\n",
    "    Returns:\n",
    "        A NumPy array of the solution. ([[t0, t1, ...], [y0, y1, ...]])\n",
    "    \"\"\"\n",
    "    t = numpy.arange(tspan[0], tspan[1] + h, h)\n",
    "    out = numpy.zeros((2, len(t)))\n",
    "    for i in range(len(t)):\n",
    "        out[0, i] = t[i]\n",
    "        if i == 0:\n",
    "            out[1, i] = y0\n",
    "        else:\n",
    "            out[1, i] = out[1, i - 1] + h * f(out[0, i - 1], out[1, i - 1])\n",
    "    return out"
   ]
  },
  {
   "cell_type": "code",
   "execution_count": null,
   "metadata": {},
   "outputs": [],
   "source": [
    "def improved_euler(f: callable, tspan: list, y0: float, h: float) -> numpy.array:\n",
    "    \"\"\"Improved Euler's method for solving ODEs.\n",
    "    Args:\n",
    "        f: The derivative function.\n",
    "        tspan: The time span. [t0, tf]\n",
    "        y0: The initial value. y(t0) = y0\n",
    "        h: The step size.\n",
    "    Returns:\n",
    "        A NumPy array of the solution. ([[t0, t1, ...], [y0, y1, ...]])\n",
    "    \"\"\"\n",
    "    t = numpy.arange(tspan[0], tspan[1] + h, h)\n",
    "    out = numpy.zeros((2, len(t)))\n",
    "    for i in range(len(t)):\n",
    "        out[0, i] = t[i]\n",
    "        if i == 0:\n",
    "            out[1, i] = y0\n",
    "        else:\n",
    "            k1 = f(out[0, i - 1], out[1, i - 1])\n",
    "            k2 = f(out[0, i - 1] + h, out[1, i - 1] + h * k1)\n",
    "            out[1, i] = out[1, i - 1] + h * (k1 + k2) / 2\n",
    "    return out"
   ]
  },
  {
   "cell_type": "code",
   "execution_count": null,
   "metadata": {},
   "outputs": [],
   "source": [
    "def pretty_print(arr: numpy.array) -> None:\n",
    "    \"\"\"Prints the solution array in a pretty way.\n",
    "    Args:\n",
    "        arr: The solution array.\n",
    "    \"\"\"\n",
    "    for i in range(len(arr[0])):\n",
    "        print(f\"y({arr[0, i]:.2f}) = {round(arr[1, i], 4):.4f}\")"
   ]
  },
  {
   "cell_type": "code",
   "execution_count": null,
   "metadata": {},
   "outputs": [
    {
     "name": "stdout",
     "output_type": "stream",
     "text": [
      "y(0.00) = 3.0000\n",
      "y(0.10) = 3.6000\n",
      "y(0.20) = 4.3200\n",
      "y(0.30) = 5.1840\n",
      "y(0.40) = 6.2208\n",
      "y(0.50) = 7.4650\n"
     ]
    }
   ],
   "source": [
    "pretty_print(euler(lambda t, y: 2 * y, [0, .5], 3, 0.1))"
   ]
  },
  {
   "cell_type": "code",
   "execution_count": null,
   "metadata": {},
   "outputs": [
    {
     "name": "stdout",
     "output_type": "stream",
     "text": [
      "y(0.00) = 3.0000\n",
      "y(0.10) = 3.6600\n",
      "y(0.20) = 4.4652\n",
      "y(0.30) = 5.4475\n",
      "y(0.40) = 6.6460\n",
      "y(0.50) = 8.1081\n"
     ]
    }
   ],
   "source": [
    "pretty_print(improved_euler(lambda t, y: 2 * y, [0, .5], 3, 0.1))"
   ]
  }
 ],
 "metadata": {
  "kernelspec": {
   "display_name": "Python 3.9.6 64-bit",
   "language": "python",
   "name": "python3"
  },
  "language_info": {
   "codemirror_mode": {
    "name": "ipython",
    "version": 3
   },
   "file_extension": ".py",
   "mimetype": "text/x-python",
   "name": "python",
   "nbconvert_exporter": "python",
   "pygments_lexer": "ipython3",
   "version": "3.9.6"
  },
  "orig_nbformat": 4,
  "vscode": {
   "interpreter": {
    "hash": "31f2aee4e71d21fbe5cf8b01ff0e069b9275f58929596ceb00d14d90e3e16cd6"
   }
  }
 },
 "nbformat": 4,
 "nbformat_minor": 2
}
